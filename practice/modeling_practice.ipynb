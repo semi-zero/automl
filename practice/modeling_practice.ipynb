{
 "cells": [
  {
   "cell_type": "code",
   "execution_count": 1,
   "id": "ba4f6163-67bd-4d3a-84ca-ba2ebe1d4b78",
   "metadata": {},
   "outputs": [],
   "source": [
    "import argparse\n",
    "import logging\n",
    "import pandas as pd\n",
    "import random\n",
    "import os\n",
    "import numpy as np\n",
    "from loggers import logger\n",
    "from process import input_data, modeling, preprocess\n",
    "from sklearn.model_selection import train_test_split\n",
    "\n",
    "import torch\n",
    "import torch.nn as nn\n",
    "from pytorch_tabnet.tab_model import TabNetClassifier"
   ]
  },
  {
   "cell_type": "code",
   "execution_count": 2,
   "id": "825ce2bb-fbc9-4719-94e1-9791590814d3",
   "metadata": {},
   "outputs": [
    {
     "name": "stderr",
     "output_type": "stream",
     "text": [
      "C:\\Users\\dpapf\\anaconda3\\envs\\demand\\lib\\site-packages\\numpy\\core\\_methods.py:48: RuntimeWarning: overflow encountered in reduce\n",
      "  return umr_sum(a, axis, dtype, out, keepdims, initial, where)\n",
      "C:\\Users\\dpapf\\Desktop\\automl_tabular\\process\\preprocess.py:75: SettingWithCopyWarning: \n",
      "A value is trying to be set on a copy of a slice from a DataFrame.\n",
      "Try using .loc[row_indexer,col_indexer] = value instead\n",
      "\n",
      "See the caveats in the documentation: https://pandas.pydata.org/pandas-docs/stable/user_guide/indexing.html#returning-a-view-versus-a-copy\n",
      "  id_target_df.loc[:, target] = lb_encoder.fit_transform(id_target_df.loc[:, target])\n",
      "C:\\Users\\dpapf\\anaconda3\\envs\\demand\\lib\\site-packages\\sklearn\\utils\\validation.py:993: DataConversionWarning: A column-vector y was passed when a 1d array was expected. Please change the shape of y to (n_samples, ), for example using ravel().\n",
      "  y = column_or_1d(y, warn=True)\n",
      "C:\\Users\\dpapf\\anaconda3\\envs\\demand\\lib\\site-packages\\sklearn\\linear_model\\_logistic.py:814: ConvergenceWarning: lbfgs failed to converge (status=1):\n",
      "STOP: TOTAL NO. of ITERATIONS REACHED LIMIT.\n",
      "\n",
      "Increase the number of iterations (max_iter) or scale the data as shown in:\n",
      "    https://scikit-learn.org/stable/modules/preprocessing.html\n",
      "Please also refer to the documentation for alternative solver options:\n",
      "    https://scikit-learn.org/stable/modules/linear_model.html#logistic-regression\n",
      "  n_iter_i = _check_optimize_result(\n",
      "C:\\Users\\dpapf\\Desktop\\automl_tabular\\process\\modeling.py:202: DataConversionWarning: A column-vector y was passed when a 1d array was expected. Please change the shape of y to (n_samples,), for example using ravel().\n",
      "  rf.fit(X_train, y_train)\n"
     ]
    },
    {
     "name": "stdout",
     "output_type": "stream",
     "text": [
      "Device used : cpu\n",
      "epoch 0  | loss: 0.71674 | train_auc: 0.58568 | valid_auc: 0.68662 |  0:00:05s\n",
      "epoch 1  | loss: 0.67127 | train_auc: 0.64209 | valid_auc: 0.687   |  0:00:10s\n",
      "Stop training because you reached max_epochs = 2 with best_epoch = 1 and best_valid_auc = 0.687\n",
      "Best weights from best epoch are automatically used!\n"
     ]
    }
   ],
   "source": [
    "log_name='1'\n",
    "data, var_list, num_var, obj_var = input_data.Data_load('storage/data/churn.csv', log_name).read_data()\n",
    "df = preprocess.Preprocessing(log_name, data, var_list, num_var, obj_var, target='churn', unique_id = 'state' ).get_df()\n",
    "mm = modeling.Modeling(log_name, df, obj_var = obj_var, target='churn', unique_id = 'state', model_type='auto', OVER_SAMPLING=True, HPO=False)"
   ]
  },
  {
   "cell_type": "code",
   "execution_count": 3,
   "id": "662c55f7-7a85-4ffb-b17f-b1c59ed4f99e",
   "metadata": {},
   "outputs": [
    {
     "data": {
      "text/html": [
       "<div>\n",
       "<style scoped>\n",
       "    .dataframe tbody tr th:only-of-type {\n",
       "        vertical-align: middle;\n",
       "    }\n",
       "\n",
       "    .dataframe tbody tr th {\n",
       "        vertical-align: top;\n",
       "    }\n",
       "\n",
       "    .dataframe thead th {\n",
       "        text-align: right;\n",
       "    }\n",
       "</style>\n",
       "<table border=\"1\" class=\"dataframe\">\n",
       "  <thead>\n",
       "    <tr style=\"text-align: right;\">\n",
       "      <th></th>\n",
       "      <th>auroc</th>\n",
       "      <th>aucpr</th>\n",
       "      <th>accuracy</th>\n",
       "      <th>precision</th>\n",
       "      <th>recall</th>\n",
       "      <th>f1</th>\n",
       "    </tr>\n",
       "  </thead>\n",
       "  <tbody>\n",
       "    <tr>\n",
       "      <th>lr</th>\n",
       "      <td>0.837397</td>\n",
       "      <td>0.468818</td>\n",
       "      <td>0.755622</td>\n",
       "      <td>0.330189</td>\n",
       "      <td>0.769231</td>\n",
       "      <td>0.462046</td>\n",
       "    </tr>\n",
       "    <tr>\n",
       "      <th>rf</th>\n",
       "      <td>0.882278</td>\n",
       "      <td>0.663263</td>\n",
       "      <td>0.908546</td>\n",
       "      <td>0.666667</td>\n",
       "      <td>0.659341</td>\n",
       "      <td>0.662983</td>\n",
       "    </tr>\n",
       "    <tr>\n",
       "      <th>lgb</th>\n",
       "      <td>0.941239</td>\n",
       "      <td>0.871506</td>\n",
       "      <td>0.950525</td>\n",
       "      <td>0.815217</td>\n",
       "      <td>0.824176</td>\n",
       "      <td>0.819672</td>\n",
       "    </tr>\n",
       "    <tr>\n",
       "      <th>tab</th>\n",
       "      <td>0.687004</td>\n",
       "      <td>0.293701</td>\n",
       "      <td>0.382309</td>\n",
       "      <td>0.163522</td>\n",
       "      <td>0.857143</td>\n",
       "      <td>0.274648</td>\n",
       "    </tr>\n",
       "  </tbody>\n",
       "</table>\n",
       "</div>"
      ],
      "text/plain": [
       "        auroc     aucpr  accuracy  precision    recall        f1\n",
       "lr   0.837397  0.468818  0.755622   0.330189  0.769231  0.462046\n",
       "rf   0.882278  0.663263  0.908546   0.666667  0.659341  0.662983\n",
       "lgb  0.941239  0.871506  0.950525   0.815217  0.824176  0.819672\n",
       "tab  0.687004  0.293701  0.382309   0.163522  0.857143  0.274648"
      ]
     },
     "execution_count": 3,
     "metadata": {},
     "output_type": "execute_result"
    }
   ],
   "source": [
    "score = pd.DataFrame(mm.score)\n",
    "score"
   ]
  },
  {
   "cell_type": "code",
   "execution_count": 6,
   "id": "5d95f25b-59dc-41b9-b4af-1e3810bf8a25",
   "metadata": {},
   "outputs": [],
   "source": [
    "train_result_page = {'best_model_name': mm.best_model_name}"
   ]
  },
  {
   "cell_type": "code",
   "execution_count": 7,
   "id": "8b3e97ff-21a7-46ef-92e3-2af5d833fc03",
   "metadata": {},
   "outputs": [
    {
     "data": {
      "text/plain": [
       "{'best_model_name': 'lgb'}"
      ]
     },
     "execution_count": 7,
     "metadata": {},
     "output_type": "execute_result"
    }
   ],
   "source": [
    "train_result_page"
   ]
  },
  {
   "cell_type": "code",
   "execution_count": 19,
   "id": "a05bd352-1642-4b52-8f2f-7c21132d46e9",
   "metadata": {},
   "outputs": [],
   "source": [
    "import json\n",
    "import datetime\n",
    "start_time = datetime.datetime.now().strftime('%Y%m%d_%H%M%S')\n",
    "with open('storage/'+str(start_time)+'result_page_path', 'w') as f:\n",
    "    json.dump(train_result_page, f)"
   ]
  },
  {
   "cell_type": "code",
   "execution_count": null,
   "id": "908f3733-9680-40b5-81da-43b53cc02b87",
   "metadata": {},
   "outputs": [],
   "source": []
  }
 ],
 "metadata": {
  "kernelspec": {
   "display_name": "Python 3 (ipykernel)",
   "language": "python",
   "name": "python3"
  },
  "language_info": {
   "codemirror_mode": {
    "name": "ipython",
    "version": 3
   },
   "file_extension": ".py",
   "mimetype": "text/x-python",
   "name": "python",
   "nbconvert_exporter": "python",
   "pygments_lexer": "ipython3",
   "version": "3.10.8"
  }
 },
 "nbformat": 4,
 "nbformat_minor": 5
}
